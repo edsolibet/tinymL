{
  "nbformat": 4,
  "nbformat_minor": 0,
  "metadata": {
    "colab": {
      "name": "sine_ml_test.ipynb",
      "provenance": [],
      "collapsed_sections": [],
      "authorship_tag": "ABX9TyPsTl2KSROvoDZp8nTwHo49",
      "include_colab_link": true
    },
    "kernelspec": {
      "name": "python3",
      "display_name": "Python 3"
    }
  },
  "cells": [
    {
      "cell_type": "markdown",
      "metadata": {
        "id": "view-in-github",
        "colab_type": "text"
      },
      "source": [
        "<a href=\"https://colab.research.google.com/github/edsolibet/tinymL/blob/main/sine_ml_test.ipynb\" target=\"_parent\"><img src=\"https://colab.research.google.com/assets/colab-badge.svg\" alt=\"Open In Colab\"/></a>"
      ]
    },
    {
      "cell_type": "code",
      "metadata": {
        "id": "YgbF8rkga2Ge"
      },
      "source": [
        "# Define paths to model files\r\n",
        "import os\r\n",
        "MODELS_DIR = 'models/'\r\n",
        "if not os.path.exists(MODELS_DIR):\r\n",
        "    os.mkdir(MODELS_DIR)\r\n",
        "MODEL_TF = MODELS_DIR + 'model'\r\n",
        "MODEL_NO_QUANT_TFLITE = MODELS_DIR + 'model_no_quant.tflite'\r\n",
        "MODEL_TFLITE = MODELS_DIR + 'model.tflite'\r\n",
        "MODEL_TFLITE_MICRO = MODELS_DIR + 'model.cc'"
      ],
      "execution_count": null,
      "outputs": []
    },
    {
      "cell_type": "code",
      "metadata": {
        "id": "ICqJmYHNKbHG"
      },
      "source": [
        "!pip install tensorflow==2.4.1"
      ],
      "execution_count": null,
      "outputs": []
    },
    {
      "cell_type": "code",
      "metadata": {
        "id": "gwmZKdukOksr"
      },
      "source": [
        "import tensorflow as tf\r\n",
        "\r\n",
        "from tensorflow import keras\r\n",
        "import numpy as np\r\n",
        "import pandas as pd\r\n",
        "import matplotlib.pyplot as plt\r\n",
        "import math as m"
      ],
      "execution_count": null,
      "outputs": []
    },
    {
      "cell_type": "code",
      "metadata": {
        "id": "p5cLCoA6KpaX"
      },
      "source": [
        "# generate data\r\n",
        "samples = 1000\r\n",
        "seed = 1337\r\n",
        "np.random.seed(seed)\r\n",
        "tf.random.set_seed(seed)\r\n",
        "\r\n",
        "x_val = np.random.uniform(low = 0, high = 2*m.pi, size = samples)\r\n",
        "np.random.shuffle(x_val)\r\n",
        "y_val = np.sin(x_val)\r\n",
        "\r\n",
        "plt.plot(x_val, y_val, 'b.')\r\n",
        "plt.show()"
      ],
      "execution_count": null,
      "outputs": []
    },
    {
      "cell_type": "code",
      "metadata": {
        "id": "YakgHphlM6Rn"
      },
      "source": [
        "# add noise\r\n",
        "y_val += 0.15 * np.random.randn(*y_val.shape)\r\n",
        "\r\n",
        "plt.plot(x_val, y_val, 'b.')\r\n",
        "plt.show()"
      ],
      "execution_count": null,
      "outputs": []
    },
    {
      "cell_type": "code",
      "metadata": {
        "id": "tOZdI-z8Ngew"
      },
      "source": [
        "# split data\r\n",
        "train_split = int(0.6 * samples)\r\n",
        "test_split = int(0.2 * samples + train_split)\r\n",
        "\r\n",
        "x_train, x_validate, x_test = np.split(x_val, [train_split, test_split])\r\n",
        "y_train, y_validate, y_test = np.split(y_val, [train_split, test_split])\r\n",
        "\r\n",
        "assert (x_train.size + x_validate.size + x_test.size) == samples\r\n",
        "\r\n",
        "plt.plot(x_train, y_train, 'b.', label = 'train')\r\n",
        "plt.plot(x_validate, y_validate, 'r.', label = 'validate')\r\n",
        "plt.plot(x_test, y_test, 'y.', label = 'test')\r\n",
        "plt.legend()\r\n",
        "plt.show()"
      ],
      "execution_count": null,
      "outputs": []
    },
    {
      "cell_type": "code",
      "metadata": {
        "id": "fXVrd5joPKMA"
      },
      "source": [
        "# define model architecture\r\n",
        "model_1 = tf.keras.Sequential()\r\n",
        "\r\n",
        "model_1.add(keras.layers.Dense(16, activation = 'relu', input_shape = (1,)))\r\n",
        "model_1.add(keras.layers.Dense(16, activation = 'relu'))\r\n",
        "model_1.add(keras.layers.Dense(1))\r\n",
        "model_1.compile(optimizer = 'adam', loss = 'mse', metrics = ['mae'])\r\n",
        "\r\n",
        "model_1.summary()\r\n"
      ],
      "execution_count": null,
      "outputs": []
    },
    {
      "cell_type": "code",
      "metadata": {
        "id": "JE7lPbAbRPOv"
      },
      "source": [
        "# training them model\r\n",
        "history_1 = model_1.fit(x_train, y_train, epochs = 1000, batch_size = 64,\r\n",
        "                        validation_data = (x_validate, y_validate))"
      ],
      "execution_count": null,
      "outputs": []
    },
    {
      "cell_type": "code",
      "metadata": {
        "id": "tKggFhDQSGpK"
      },
      "source": [
        "loss = history_1.history['loss']\r\n",
        "val_loss = history_1.history['val_loss']\r\n",
        "mae = history_1.history['mae']\r\n",
        "val_mae = history_1.history['val_mae']\r\n",
        "epochs = range(1, len(loss) + 1)\r\n",
        "skip = 0\r\n",
        "\r\n",
        "plt.figure(figsize = (12, 4))\r\n",
        "plt.subplot(1, 2, 1)\r\n",
        "plt.plot(epochs[skip:], loss[skip:], 'g.', label = 'training loss')\r\n",
        "plt.plot(epochs[skip:], val_loss[skip:], 'b.', label = 'validation loss')\r\n",
        "plt.ylabel('Loss')\r\n",
        "plt.xlabel('Epochs')\r\n",
        "plt.legend()\r\n",
        "plt.subplot(1, 2, 2)\r\n",
        "plt.plot(epochs[skip:], mae[skip:], 'g.', label = 'training mae')\r\n",
        "plt.plot(epochs[skip:], val_mae[skip:], 'b.', label = 'validation mae')\r\n",
        "plt.xlabel('Epochs')\r\n",
        "plt.ylabel('MAE')\r\n",
        "plt.legend()\r\n",
        "plt.show()"
      ],
      "execution_count": null,
      "outputs": []
    },
    {
      "cell_type": "code",
      "metadata": {
        "id": "z3b5Q4D-X9C2"
      },
      "source": [
        "# prediction\r\n",
        "\r\n",
        "predictions = model_1.predict(x_test)\r\n",
        "\r\n",
        "plt.clf()\r\n",
        "plt.plot(x_test, y_test, 'b.', label = 'actual')\r\n",
        "plt.plot(x_test, predictions, 'r.', label = 'predicted')\r\n",
        "plt.legend()\r\n",
        "plt.show()"
      ],
      "execution_count": null,
      "outputs": []
    },
    {
      "cell_type": "code",
      "metadata": {
        "id": "7F-2oYY1a0qC"
      },
      "source": [
        "# convert model\r\n",
        "converter = tf.lite.TFLiteConverter.from_keras_model(model_1)\r\n",
        "converter.optimizations = [tf.lite.Optimize.DEFAULT]\r\n",
        "def representative_dataset_generator():\r\n",
        "  for value in x_test:\r\n",
        "    yield [np.array(value, dtype = np.float32, ndmin = 2)]\r\n",
        "converter.representative_dataset = representative_dataset_generator\r\n",
        "tflite_model = converter.convert()\r\n",
        "\r\n",
        "#save model\r\n",
        "open(\"sine_model.tflite\", 'wb').write(tflite_model)"
      ],
      "execution_count": null,
      "outputs": []
    },
    {
      "cell_type": "code",
      "metadata": {
        "id": "vQAaVSECz8QE"
      },
      "source": [
        "# instantitate an interpreter\r\n",
        "sine_model = tf.lite.Interpreter('sine_model.tflite')\r\n",
        "#allocate memory\r\n",
        "sine_model.allocate_tensors()\r\n",
        "#get indexes of the input and output tensors\r\n",
        "sine_model_input_index = sine_model.get_input_details()[0]['index']\r\n",
        "sine_model_output_index = sine_model.get_output_details()[0]['index']\r\n",
        "\r\n",
        "# create arrays to store the results\r\n",
        "sine_model_predictions = []\r\n",
        "\r\n",
        "# run each model's interpreter for each value and store the results in arrays\r\n",
        "for x in x_test:\r\n",
        "  # create 2D tensor wrapping current x value\r\n",
        "  x_value = tf.convert_to_tensor([[x]], dtype = np.float32)\r\n",
        "  # write the value to the input tensor\r\n",
        "  sine_model.set_tensor(sine_model_input_index, x_value)\r\n",
        "  #run inference\r\n",
        "  sine_model.invoke()\r\n",
        "  # read the prediction from output tensor\r\n",
        "  sine_model_predictions.append(sine_model.get_tensor(sine_model_output_index)[0])\r\n",
        "\r\n",
        "plt.clf()\r\n",
        "plt.plot(x_test, y_test, 'bo', label = 'Actual')\r\n",
        "plt.plot(x_test, predictions, 'ro', label = 'Original predictions')\r\n",
        "plt.plot(x_test, sine_model_predictions, 'gx', label = 'lite predictions')\r\n",
        "plt.legend()\r\n",
        "plt.show()"
      ],
      "execution_count": null,
      "outputs": []
    },
    {
      "cell_type": "code",
      "metadata": {
        "id": "GA4f2cPI2uhk"
      },
      "source": [
        "model_size = os.path.getsize('sine_model.tflite')\r\n",
        "print(\"Quantized model is %d bytes\" % model_size)"
      ],
      "execution_count": null,
      "outputs": []
    },
    {
      "cell_type": "code",
      "metadata": {
        "id": "Bi4SMbnf3IKF"
      },
      "source": [
        "!apt-get -qq install xxd\r\n",
        "!xxd -i sine_model.tflite > sine_model.cc\r\n",
        "!cat sine_model.cc"
      ],
      "execution_count": null,
      "outputs": []
    }
  ]
}